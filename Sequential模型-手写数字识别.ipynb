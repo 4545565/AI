{
 "cells": [
  {
   "cell_type": "markdown",
   "metadata": {},
   "source": [
    "# 实例13.1-建立Sequentail模型"
   ]
  },
  {
   "cell_type": "code",
   "execution_count": 1,
   "metadata": {},
   "outputs": [],
   "source": [
    "import tensorflow as tf\n",
    "import numpy as np\n",
    "import matplotlib.pyplot as plt"
   ]
  },
  {
   "cell_type": "code",
   "execution_count": 2,
   "metadata": {},
   "outputs": [],
   "source": [
    "mnist=tf.keras.datasets.mnist\n",
    "(train_x,train_y),(test_x,test_y)=mnist.load_data()\n",
    "\n",
    "X_train,X_test=tf.cast(train_x/255.0,tf.float32),tf.cast(test_x/255.0,tf.float32)\n",
    "y_train,y_test=tf.cast(train_y,tf.int16),tf.cast(test_y,tf.int16)"
   ]
  },
  {
   "cell_type": "code",
   "execution_count": null,
   "metadata": {},
   "outputs": [
    {
     "name": "stdout",
     "output_type": "stream",
     "text": [
      "Model: \"sequential\"\n",
      "_________________________________________________________________\n",
      " Layer (type)                Output Shape              Param #   \n",
      "=================================================================\n",
      " flatten (Flatten)           (None, 784)               0         \n",
      "                                                                 \n",
      " dense (Dense)               (None, 128)               100480    \n",
      "                                                                 \n",
      " dense_1 (Dense)             (None, 10)                1290      \n",
      "                                                                 \n",
      "=================================================================\n",
      "Total params: 101,770\n",
      "Trainable params: 101,770\n",
      "Non-trainable params: 0\n",
      "_________________________________________________________________\n"
     ]
    }
   ],
   "source": [
    "model=tf.keras.Sequential()\n",
    "model.add(tf.keras.layers.Flatten(input_shape=(28,28)))\n",
    "model.add(tf.keras.layers.Dense(128,activation=\"relu\"))\n",
    "model.add(tf.keras.layers.Dense(10,activation=\"softmax\"))\n",
    "model.summary()"
   ]
  },
  {
   "cell_type": "code",
   "execution_count": 4,
   "metadata": {},
   "outputs": [
    {
     "name": "stdout",
     "output_type": "stream",
     "text": [
      "Epoch 1/5\n",
      "750/750 [==============================] - 2s 2ms/step - loss: 0.3399 - sparse_categorical_accuracy: 0.9053 - val_loss: 0.1785 - val_sparse_categorical_accuracy: 0.9495\n",
      "Epoch 2/5\n",
      "750/750 [==============================] - 2s 2ms/step - loss: 0.1556 - sparse_categorical_accuracy: 0.9549 - val_loss: 0.1319 - val_sparse_categorical_accuracy: 0.9625\n",
      "Epoch 3/5\n",
      "750/750 [==============================] - 1s 2ms/step - loss: 0.1066 - sparse_categorical_accuracy: 0.9688 - val_loss: 0.1104 - val_sparse_categorical_accuracy: 0.9678\n",
      "Epoch 4/5\n",
      "750/750 [==============================] - 2s 2ms/step - loss: 0.0823 - sparse_categorical_accuracy: 0.9766 - val_loss: 0.0977 - val_sparse_categorical_accuracy: 0.9708\n",
      "Epoch 5/5\n",
      "750/750 [==============================] - 1s 2ms/step - loss: 0.0648 - sparse_categorical_accuracy: 0.9811 - val_loss: 0.0894 - val_sparse_categorical_accuracy: 0.9725\n",
      "313/313 - 0s - loss: 0.0927 - sparse_categorical_accuracy: 0.9720 - 349ms/epoch - 1ms/step\n"
     ]
    }
   ],
   "source": [
    "model.compile(\n",
    "    optimizer=\"adam\",\n",
    "    loss=\"sparse_categorical_crossentropy\",\n",
    "    metrics=[\"sparse_categorical_accuracy\"]\n",
    ")\n",
    "\n",
    "model.fit(X_train,y_train,batch_size=64,epochs=5,validation_split=0.2)\n",
    "\n",
    "model.evaluate(X_test,y_test,verbose=2)\n",
    "\n",
    "model.save_weights(\"mnist_weights.h5\")"
   ]
  },
  {
   "cell_type": "code",
   "execution_count": 5,
   "metadata": {},
   "outputs": [
    {
     "name": "stdout",
     "output_type": "stream",
     "text": [
      "1/1 [==============================] - 0s 76ms/step\n",
      "1/1 [==============================] - 0s 17ms/step\n",
      "1/1 [==============================] - 0s 17ms/step\n",
      "1/1 [==============================] - 0s 16ms/step\n"
     ]
    },
    {
     "data": {
      "image/png": "[encoded data removed]",
      "text/plain": [
       "<Figure size 640x480 with 4 Axes>"
      ]
     },
     "metadata": {},
     "output_type": "display_data"
    }
   ],
   "source": [
    "for i in range(4):\n",
    "    num=np.random.randint(1,10000)\n",
    "    \n",
    "    plt.subplot(1,4,i+1)\n",
    "    plt.axis(\"off\")\n",
    "    plt.imshow(test_x[num],cmap=\"gray\")\n",
    "    y_pred=np.argmax(model.predict(X_test[num:num+1]))\n",
    "    plt.title(\"y=\"+str(test_y[num])+\"\\ny_pred=\"+str(y_pred))\n",
    "    \n",
    "plt.show()"
   ]
  },
  {
   "cell_type": "code",
   "execution_count": 6,
   "metadata": {},
   "outputs": [
    {
     "name": "stdout",
     "output_type": "stream",
     "text": [
      "313/313 - 0s - loss: 0.0927 - sparse_categorical_accuracy: 0.9720 - 398ms/epoch - 1ms/step\n"
     ]
    }
   ],
   "source": [
    "model.compile(\n",
    "    optimizer=\"adam\",\n",
    "    loss=\"sparse_categorical_crossentropy\",\n",
    "    metrics=[\"sparse_categorical_accuracy\"]\n",
    ")\n",
    "\n",
    "model.load_weights(\"mnist_weights.h5\")\n",
    "\n",
    "model.evaluate(X_test,y_test,verbose=2)\n",
    "\n",
    "model.save(\"mnist_model.h5\")"
   ]
  }
 ],
 "metadata": {
  "kernelspec": {
   "display_name": "tf2-cpu",
   "language": "python",
   "name": "python3"
  },
  "language_info": {
   "codemirror_mode": {
    "name": "ipython",
    "version": 3
   },
   "file_extension": ".py",
   "mimetype": "text/x-python",
   "name": "python",
   "nbconvert_exporter": "python",
   "pygments_lexer": "ipython3",
   "version": "3.8.18"
  }
 },
 "nbformat": 4,
 "nbformat_minor": 2
}

{
 "cells": [
  {
   "cell_type": "markdown",
   "metadata": {},
   "source": [
    "# 实例10.5-GradientTape自动求导实例"
   ]
  },
  {
   "cell_type": "code",
   "execution_count": 538,
   "metadata": {},
   "outputs": [],
   "source": [
    "import tensorflow as tf\n",
    "import numpy as np\n",
    "import matplotlib.pyplot as plt"
   ]
  },
  {
   "cell_type": "code",
   "execution_count": 539,
   "metadata": {},
   "outputs": [
    {
     "name": "stdout",
     "output_type": "stream",
     "text": [
      "tf.Tensor(9.0, shape=(), dtype=float32)\n",
      "tf.Tensor(6.0, shape=(), dtype=float32)\n",
      "tf.Tensor(27.0, shape=(), dtype=float32)\n",
      "tf.Tensor(27.0, shape=(), dtype=float32)\n"
     ]
    }
   ],
   "source": [
    "x=tf.Variable(3.)\n",
    "\n",
    "with tf.GradientTape(persistent=True) as tape:\n",
    "    y=tf.square(x)\n",
    "    z=pow(x,3)\n",
    "dy_dx=tape.gradient(y,x)\n",
    "dz_dx=tape.gradient(z,x)\n",
    "\n",
    "print(y)\n",
    "print(dy_dx)\n",
    "print(z)\n",
    "print(dz_dx)\n",
    "\n",
    "del tape"
   ]
  },
  {
   "cell_type": "code",
   "execution_count": 540,
   "metadata": {},
   "outputs": [
    {
     "name": "stdout",
     "output_type": "stream",
     "text": [
      "tf.Tensor(42.0, shape=(), dtype=float32)\n",
      "tf.Tensor(6.0, shape=(), dtype=float32)\n",
      "tf.Tensor(16.0, shape=(), dtype=float32)\n",
      "[<tf.Tensor: shape=(), dtype=float32, numpy=6.0>, <tf.Tensor: shape=(), dtype=float32, numpy=16.0>]\n"
     ]
    }
   ],
   "source": [
    "x=tf.Variable(3.)\n",
    "y=tf.Variable(4.)\n",
    "\n",
    "with tf.GradientTape(persistent=True) as tape:\n",
    "    f=tf.square(x)+2*tf.square(y)+1\n",
    "df_dx,df_dy=tape.gradient(f,[x,y])\n",
    "\n",
    "print(f)\n",
    "print(df_dx)\n",
    "print(df_dy)\n",
    "\n",
    "fitst_grads=tape.gradient(f,[x,y])\n",
    "print(fitst_grads)\n",
    "\n",
    "del tape"
   ]
  },
  {
   "cell_type": "code",
   "execution_count": 541,
   "metadata": {},
   "outputs": [
    {
     "name": "stdout",
     "output_type": "stream",
     "text": [
      "tf.Tensor([34. 55. 82.], shape=(3,), dtype=float32)\n",
      "tf.Tensor([2. 4. 6.], shape=(3,), dtype=float32)\n",
      "tf.Tensor([16. 20. 24.], shape=(3,), dtype=float32)\n"
     ]
    }
   ],
   "source": [
    "x=tf.Variable([1.,2.,3.,])\n",
    "y=tf.Variable([4.,5.,6.])\n",
    "\n",
    "with tf.GradientTape() as tape:\n",
    "    f=tf.square(x)+2*tf.square(y)+1\n",
    "df_dx,df_dy=tape.gradient(f,[x,y])\n",
    "\n",
    "print(f)\n",
    "print(df_dx)\n",
    "print(df_dy)"
   ]
  },
  {
   "cell_type": "code",
   "execution_count": 542,
   "metadata": {},
   "outputs": [],
   "source": [
    "x=tf.Variable([137.97,104.50,100.00,124.32,79.20,99.00,124.00,114.00,\n",
    "               106.69,138.05,53.75,46.91,68.00,63.02,81.26,86.21],\n",
    "              dtype=tf.float32)\n",
    "y=tf.Variable([145.00,110.00,93.00,116.00,65.32,104.00,118.00,91.00,\n",
    "               62.00,133.00,51.00,45.00,78.50,69.65,75.69,95.30],\n",
    "              dtype=tf.float32)\n",
    "\n",
    "learn_rate=0.0001\n",
    "iter=10\n",
    "\n",
    "display_step=1\n",
    "\n",
    "np.random.seed(612)\n",
    "w = tf.Variable(np.random.randn(), dtype=tf.float32)\n",
    "b = tf.Variable(np.random.randn(), dtype=tf.float32)\n"
   ]
  },
  {
   "cell_type": "code",
   "execution_count": 543,
   "metadata": {},
   "outputs": [
    {
     "name": "stdout",
     "output_type": "stream",
     "text": [
      "i:0,Loss:4749.362305,w:0.946047,b:-1.153577\n",
      "i:1,Loss:89.861862,w:0.957843,b:-1.153412\n",
      "i:2,Loss:89.157501,w:0.957987,b:-1.153359\n",
      "i:3,Loss:89.157379,w:0.957988,b:-1.153308\n",
      "i:4,Loss:89.157364,w:0.957988,b:-1.153257\n",
      "i:5,Loss:89.157318,w:0.957987,b:-1.153206\n",
      "i:6,Loss:89.157280,w:0.957987,b:-1.153155\n",
      "i:7,Loss:89.157265,w:0.957986,b:-1.153104\n",
      "i:8,Loss:89.157219,w:0.957986,b:-1.153052\n",
      "i:9,Loss:89.157211,w:0.957985,b:-1.153001\n",
      "i:10,Loss:89.157196,w:0.957985,b:-1.152950\n"
     ]
    }
   ],
   "source": [
    "mse=[]\n",
    "\n",
    "for i in range(0,iter+1):\n",
    "    with tf.GradientTape() as tape:\n",
    "        pred=w*x+b\n",
    "        # pred=tf.matmul(x,tf.reshape(w,[-1,1]))\n",
    "        Loss=0.5*tf.reduce_mean(tf.square(y-pred))\n",
    "    mse.append(Loss)\n",
    "    \n",
    "    dL_dw,dL_db=tape.gradient(Loss,[w,b])\n",
    "    w.assign_sub(learn_rate*dL_dw)\n",
    "    b.assign_sub(learn_rate*dL_db)\n",
    "    if i%display_step==0:\n",
    "        print(\"i:%i,Loss:%f,w:%f,b:%f\"%(i,mse[i].numpy(),w.numpy(),b.numpy()))"
   ]
  },
  {
   "cell_type": "code",
   "execution_count": 544,
   "metadata": {},
   "outputs": [
    {
     "data": {
      "text/plain": [
       "Text(0, 0.5, 'Loss')"
      ]
     },
     "execution_count": 544,
     "metadata": {},
     "output_type": "execute_result"
    },
    {
     "data": {
      "image/png": "[encoded data removed]",
      "text/plain": [
       "<Figure size 640x480 with 1 Axes>"
      ]
     },
     "metadata": {},
     "output_type": "display_data"
    }
   ],
   "source": [
    "plt.rcParams['font.sans-serif'] = 'SimHei'\n",
    "plt.plot(range(0,iter+1),mse)\n",
    "plt.xlabel(\"Iteration\",fontsize=14)\n",
    "plt.ylabel(\"Loss\",fontsize=14)"
   ]
  },
  {
   "cell_type": "code",
   "execution_count": 545,
   "metadata": {},
   "outputs": [],
   "source": [
    "x1=np.array([137.97,104.50,100.00,124.32,79.20,99.00,124.00,114.00,\n",
    "               106.69,138.05,53.75,46.91,68.00,63.02,81.26,86.21])\n",
    "x2=np.array([3,2,2,3,1,2,3,2,2,3,1,1,1,1,2,2])\n",
    "y=np.array([145.00,110.00,93.00,116.00,65.32,104.00,118.00,91.00,\n",
    "               62.00,133.00,51.00,45.00,78.50,69.65,75.69,95.30])\n",
    "x0=np.ones(len(x1))\n",
    "X=tf.Variable(np.stack((x0,x1,x2),axis=1))\n",
    "Y=tf.Variable(np.array(y).reshape(-1,1))\n",
    "\n",
    "np.random.seed(612)\n",
    "W=tf.Variable(np.random.randn(3,1))\n",
    "\n",
    "learn_rate=0.00001\n",
    "iter=500\n",
    "display_step=50"
   ]
  },
  {
   "cell_type": "code",
   "execution_count": 546,
   "metadata": {},
   "outputs": [
    {
     "name": "stdout",
     "output_type": "stream",
     "text": [
      "i: 0, Loss: 22167.906249\n",
      "i: 50, Loss: 89.444088\n",
      "i: 100, Loss: 88.774540\n",
      "i: 150, Loss: 88.774042\n",
      "i: 200, Loss: 88.773564\n",
      "i: 250, Loss: 88.773087\n",
      "i: 300, Loss: 88.772609\n",
      "i: 350, Loss: 88.772131\n",
      "i: 400, Loss: 88.771654\n",
      "i: 450, Loss: 88.771176\n",
      "i: 500, Loss: 88.770699\n"
     ]
    }
   ],
   "source": [
    "mse=[]\n",
    "for i in range(0,iter+1):\n",
    "    with tf.GradientTape() as tape:\n",
    "        PRED=tf.matmul(X,W)\n",
    "        Loss=0.5*tf.reduce_mean(tf.square(Y-PRED))\n",
    "    mse.append(Loss)\n",
    "    \n",
    "    dL_dW=tape.gradient(Loss,W)\n",
    "    W.assign_sub(learn_rate*dL_dW)\n",
    "    if i%display_step==0:\n",
    "        print(\"i: %i, Loss: %f\" %(i,Loss))"
   ]
  },
  {
   "cell_type": "code",
   "execution_count": 547,
   "metadata": {},
   "outputs": [
    {
     "data": {
      "text/plain": [
       "Text(0, 0.5, 'Loss')"
      ]
     },
     "execution_count": 547,
     "metadata": {},
     "output_type": "execute_result"
    },
    {
     "data": {
      "image/png": "[encoded data removed]",
      "text/plain": [
       "<Figure size 640x480 with 1 Axes>"
      ]
     },
     "metadata": {},
     "output_type": "display_data"
    }
   ],
   "source": [
    "plt.rcParams['font.sans-serif'] = 'SimHei'\n",
    "plt.plot(range(0,iter+1),mse)\n",
    "plt.xlabel(\"Iteration\",fontsize=14)\n",
    "plt.ylabel(\"Loss\",fontsize=14)"
   ]
  }
 ],
 "metadata": {
  "kernelspec": {
   "display_name": "tf2-cpu",
   "language": "python",
   "name": "python3"
  },
  "language_info": {
   "codemirror_mode": {
    "name": "ipython",
    "version": 3
   },
   "file_extension": ".py",
   "mimetype": "text/x-python",
   "name": "python",
   "nbconvert_exporter": "python",
   "pygments_lexer": "ipython3",
   "version": "3.8.18"
  }
 },
 "nbformat": 4,
 "nbformat_minor": 2
}

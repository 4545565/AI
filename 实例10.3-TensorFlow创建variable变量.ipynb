{
 "cells": [
  {
   "cell_type": "markdown",
   "metadata": {},
   "source": [
    "# 实例10.3-TensorFlow创建variable变量"
   ]
  },
  {
   "cell_type": "code",
   "execution_count": 1,
   "metadata": {},
   "outputs": [],
   "source": [
    "import tensorflow as tf\n",
    "import numpy as np"
   ]
  },
  {
   "cell_type": "code",
   "execution_count": 2,
   "metadata": {},
   "outputs": [
    {
     "name": "stdout",
     "output_type": "stream",
     "text": [
      "<tf.Variable 'Variable:0' shape=() dtype=int32, numpy=3>\n",
      "<tf.Variable 'Variable:0' shape=(2,) dtype=int32, numpy=array([1, 2])>\n",
      "<tf.Variable 'Variable:0' shape=(2,) dtype=int32, numpy=array([1, 2])>\n",
      "<tf.Variable 'Variable:0' shape=() dtype=float32, numpy=3.0>\n",
      "<tf.Variable 'Variable:0' shape=(2,) dtype=float64, numpy=array([1., 2.])>\n"
     ]
    }
   ],
   "source": [
    "print(tf.Variable(3))\n",
    "print(tf.Variable([1,2]))\n",
    "print(tf.Variable(np.array([1,2])))\n",
    "print(tf.Variable(3.))\n",
    "print(tf.Variable([1,2],dtype=tf.float64))"
   ]
  },
  {
   "cell_type": "code",
   "execution_count": 3,
   "metadata": {},
   "outputs": [
    {
     "name": "stdout",
     "output_type": "stream",
     "text": [
      "<tf.Variable 'Variable:0' shape=(2, 2) dtype=int32, numpy=\n",
      "array([[1, 2],\n",
      "       [3, 4]])>\n",
      "<tf.Variable 'Variable:0' shape=(2, 3) dtype=float32, numpy=\n",
      "array([[0., 0., 0.],\n",
      "       [0., 0., 0.]], dtype=float32)>\n",
      "<tf.Variable 'Variable:0' shape=(2, 2) dtype=float32, numpy=\n",
      "array([[ 1.3534131 ,  0.13466921],\n",
      "       [ 0.516003  , -1.0106306 ]], dtype=float32)>\n"
     ]
    }
   ],
   "source": [
    "print(tf.Variable(tf.constant([[1,2],[3,4]])))\n",
    "print(tf.Variable(tf.zeros([2,3])))\n",
    "print(tf.Variable(tf.random.normal([2,2])))"
   ]
  },
  {
   "cell_type": "code",
   "execution_count": 4,
   "metadata": {},
   "outputs": [
    {
     "name": "stdout",
     "output_type": "stream",
     "text": [
      "<tf.Variable 'Variable:0' shape=(2,) dtype=int32, numpy=array([1, 2])> (2,) <dtype: 'int32'>\n",
      "[1 2]\n",
      "True <class 'tensorflow.python.ops.resource_variable_ops.ResourceVariable'>\n"
     ]
    }
   ],
   "source": [
    "x=tf.Variable([1,2])\n",
    "print(x,x.shape,x.dtype)\n",
    "print(x.numpy())\n",
    "print(x.trainable,type(x))"
   ]
  },
  {
   "cell_type": "code",
   "execution_count": 5,
   "metadata": {},
   "outputs": [
    {
     "name": "stdout",
     "output_type": "stream",
     "text": [
      "<tf.Variable 'Variable:0' shape=(2,) dtype=int32, numpy=array([3, 4])>\n",
      "<tf.Variable 'Variable:0' shape=(2,) dtype=int32, numpy=array([4, 5])>\n",
      "<tf.Variable 'Variable:0' shape=(2,) dtype=int32, numpy=array([3, 4])>\n"
     ]
    }
   ],
   "source": [
    "y=tf.Variable([1,2])\n",
    "y.assign([3,4])\n",
    "print(y)\n",
    "y.assign_add([1,1])\n",
    "print(y)\n",
    "y.assign_sub([1,1])\n",
    "print(y)"
   ]
  },
  {
   "cell_type": "code",
   "execution_count": 6,
   "metadata": {},
   "outputs": [
    {
     "name": "stdout",
     "output_type": "stream",
     "text": [
      "True False\n",
      "False True\n"
     ]
    }
   ],
   "source": [
    "a=tf.range(5)\n",
    "b=tf.Variable(a)\n",
    "\n",
    "print(isinstance(a,tf.Tensor),isinstance(a,tf.Variable))\n",
    "print(isinstance(b,tf.Tensor),isinstance(b,tf.Variable))"
   ]
  }
 ],
 "metadata": {
  "kernelspec": {
   "display_name": "tf2-cpu",
   "language": "python",
   "name": "python3"
  },
  "language_info": {
   "codemirror_mode": {
    "name": "ipython",
    "version": 3
   },
   "file_extension": ".py",
   "mimetype": "text/x-python",
   "name": "python",
   "nbconvert_exporter": "python",
   "pygments_lexer": "ipython3",
   "version": "3.8.18"
  }
 },
 "nbformat": 4,
 "nbformat_minor": 2
}

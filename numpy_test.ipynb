{
 "cells": [
  {
   "cell_type": "code",
   "execution_count": 1,
   "metadata": {},
   "outputs": [],
   "source": [
    "import numpy as np"
   ]
  },
  {
   "cell_type": "code",
   "execution_count": 2,
   "metadata": {},
   "outputs": [
    {
     "name": "stdout",
     "output_type": "stream",
     "text": [
      "[0 1 2 3] \t <class 'numpy.ndarray'> \t (4,) \t 1\n"
     ]
    }
   ],
   "source": [
    "a=np.array([0,1,2,3])\n",
    "print(a,'\\t',type(a),'\\t',a.shape,'\\t',a.ndim)"
   ]
  },
  {
   "cell_type": "code",
   "execution_count": 3,
   "metadata": {},
   "outputs": [
    {
     "name": "stdout",
     "output_type": "stream",
     "text": [
      "[[0 1 2]\n",
      " [3 4 5]\n",
      " [6 7 8]] \n",
      " 2 \t (3, 3) \t 9\n",
      "[0 1 2] \t 1\n"
     ]
    }
   ],
   "source": [
    "b=np.array([[0,1,2],[3,4,5],[6,7,8]])\n",
    "print(b,'\\n',b.ndim,'\\t',b.shape,'\\t',b.size)\n",
    "print(b[0],'\\t',b[0,1])"
   ]
  },
  {
   "cell_type": "code",
   "execution_count": 4,
   "metadata": {},
   "outputs": [
    {
     "name": "stdout",
     "output_type": "stream",
     "text": [
      "[[0. 0. 0. 0. 0.]\n",
      " [0. 0. 0. 0. 0.]\n",
      " [0. 0. 0. 0. 0.]]\n",
      "[[0 1 2]\n",
      " [3 4 5]\n",
      " [6 7 8]]\n"
     ]
    }
   ],
   "source": [
    "a=np.array([0,1,2,3],dtype=np.int64)\n",
    "print(np.zeros((3,5)))\n",
    "print(np.asarray([[0,1,2],[3,4,5],[6,7,8]]))"
   ]
  },
  {
   "cell_type": "code",
   "execution_count": 5,
   "metadata": {},
   "outputs": [
    {
     "name": "stdout",
     "output_type": "stream",
     "text": [
      "[[1. 0. 0.]\n",
      " [0. 1. 0.]\n",
      " [0. 0. 1.]]\n",
      "[[1. 0. 0.]\n",
      " [0. 1. 0.]\n",
      " [0. 0. 1.]]\n",
      "[[1. 0. 0. 0.]\n",
      " [0. 1. 0. 0.]\n",
      " [0. 0. 1. 0.]\n",
      " [0. 0. 0. 1.]]\n"
     ]
    }
   ],
   "source": [
    "a=np.eye(3)\n",
    "b=np.asarray(a)\n",
    "print(b)\n",
    "a=np.eye(4)\n",
    "print(b)\n",
    "b=np.asarray(a)\n",
    "print(b)"
   ]
  },
  {
   "cell_type": "code",
   "execution_count": 6,
   "metadata": {},
   "outputs": [
    {
     "name": "stdout",
     "output_type": "stream",
     "text": [
      "[[0. 1. 0. 0.]\n",
      " [0. 0. 1. 0.]]\n"
     ]
    }
   ],
   "source": [
    "a=np.eye(4)\n",
    "print(a[1:3])"
   ]
  },
  {
   "cell_type": "code",
   "execution_count": 7,
   "metadata": {},
   "outputs": [
    {
     "name": "stdout",
     "output_type": "stream",
     "text": [
      "[ 0  1  2  3  4  5  6  7  8  9 10 11]\n",
      "[[ 0  1  2  3]\n",
      " [ 4  5  6  7]\n",
      " [ 8  9 10 11]]\n",
      "\n",
      "[[ 0  1  2  3]\n",
      " [ 4  5  6  7]\n",
      " [ 8  9 10 11]]\n",
      "None\n"
     ]
    }
   ],
   "source": [
    "a=np.arange(12)\n",
    "b=a.reshape(3,4)\n",
    "print(a)\n",
    "print(b)\n",
    "print()\n",
    "b=a.resize(3,4)\n",
    "print(a)\n",
    "print(b)"
   ]
  },
  {
   "cell_type": "code",
   "execution_count": 8,
   "metadata": {},
   "outputs": [
    {
     "name": "stdout",
     "output_type": "stream",
     "text": [
      "[[ 649.  746.  844.  942.]\n",
      " [2016. 2313. 2608. 2904.]\n",
      " [3384. 3878. 4373. 4866.]\n",
      " [4752. 5444. 6136. 6829.]]\n",
      "[[ 649. 2016. 3384. 4752.]\n",
      " [ 746. 2313. 3878. 5444.]\n",
      " [ 844. 2608. 4373. 6136.]\n",
      " [ 942. 2904. 4866. 6829.]]\n",
      "[[ 1.00000000e+00 -1.78745907e-14 -1.10356169e-13 -8.99280650e-15]\n",
      " [-8.12683254e-14  1.00000000e+00 -1.67865721e-13 -6.97220059e-14]\n",
      " [-2.67008637e-13  4.89608354e-14  1.00000000e+00 -2.15716334e-13]\n",
      " [-1.38611345e-13 -7.78821452e-14 -5.23470156e-13  1.00000000e+00]]\n"
     ]
    }
   ],
   "source": [
    "a=np.arange(12).reshape(4,3)\n",
    "b=np.arange(12).reshape(3,4)\n",
    "c=np.arange(16).reshape(4,4)\n",
    "d=np.matmul(np.matmul(a,b),c)+np.eye(4)\n",
    "print(d)\n",
    "print(np.transpose(d))\n",
    "e=np.linalg.inv(d)\n",
    "print(np.matmul(d,e))"
   ]
  },
  {
   "cell_type": "code",
   "execution_count": 9,
   "metadata": {},
   "outputs": [
    {
     "name": "stdout",
     "output_type": "stream",
     "text": [
      "[[1. 0.]\n",
      " [0. 1.]]\n"
     ]
    }
   ],
   "source": [
    "a=np.array([[0,1],[1,1]])\n",
    "b=np.linalg.inv(a)\n",
    "c=np.matmul(a,b)\n",
    "print(c)"
   ]
  },
  {
   "cell_type": "code",
   "execution_count": 10,
   "metadata": {},
   "outputs": [
    {
     "name": "stdout",
     "output_type": "stream",
     "text": [
      "[[ 0  1  2  3]\n",
      " [ 4  5  6  7]\n",
      " [ 8  9 10 11]]\n",
      "[12 15 18 21]\n",
      "[ 6 22 38]\n",
      "66\n"
     ]
    }
   ],
   "source": [
    "a=np.arange(12).reshape(3,4)\n",
    "print(a)\n",
    "b=np.sum(a,axis=0)\n",
    "print(b)\n",
    "c=np.sum(a,axis=1)\n",
    "print(c)\n",
    "d=np.sum(a)\n",
    "print(d)"
   ]
  },
  {
   "cell_type": "code",
   "execution_count": 11,
   "metadata": {},
   "outputs": [
    {
     "name": "stdout",
     "output_type": "stream",
     "text": [
      "[[[ 0  1  2  3]\n",
      "  [ 4  5  6  7]\n",
      "  [ 8  9 10 11]]\n",
      "\n",
      " [[12 13 14 15]\n",
      "  [16 17 18 19]\n",
      "  [20 21 22 23]]]\n",
      "[[12 14 16 18]\n",
      " [20 22 24 26]\n",
      " [28 30 32 34]]\n",
      "[[12 15 18 21]\n",
      " [48 51 54 57]]\n",
      "[[ 6 22 38]\n",
      " [54 70 86]]\n"
     ]
    }
   ],
   "source": [
    "a=np.arange(24).reshape(2,3,4)\n",
    "print(a)\n",
    "b=np.sum(a,axis=0)\n",
    "print(b)\n",
    "c=np.sum(a,axis=1)\n",
    "print(c)\n",
    "d=np.sum(a,axis=2)\n",
    "print(d)"
   ]
  },
  {
   "cell_type": "code",
   "execution_count": 12,
   "metadata": {},
   "outputs": [
    {
     "name": "stdout",
     "output_type": "stream",
     "text": [
      "[[1 2 3]\n",
      " [4 5 6]]\n",
      "[[1 4]\n",
      " [2 5]\n",
      " [3 6]]\n"
     ]
    }
   ],
   "source": [
    "x=np.array([1,2,3])\n",
    "y=np.array([4,5,6])\n",
    "a=np.stack((x,y),axis=0)\n",
    "b=np.stack((x,y),axis=1)\n",
    "print(a)\n",
    "print(b)"
   ]
  },
  {
   "cell_type": "code",
   "execution_count": 13,
   "metadata": {},
   "outputs": [
    {
     "name": "stdout",
     "output_type": "stream",
     "text": [
      "[[1 2 3]\n",
      " [4 5 6]]\n",
      "[[1 2 3]\n",
      " [4 5 6]]\n",
      "<class 'numpy.ndarray'> <class 'numpy.matrix'>\n"
     ]
    }
   ],
   "source": [
    "a=np.array([[1,2,3],[4,5,6]])\n",
    "print(a)\n",
    "m=np.mat(a)\n",
    "print(m)\n",
    "print(type(a),type(m))"
   ]
  },
  {
   "cell_type": "code",
   "execution_count": 14,
   "metadata": {},
   "outputs": [
    {
     "name": "stdout",
     "output_type": "stream",
     "text": [
      "[[0.28254091 0.43162581 0.41536515]\n",
      " [0.98414176 0.37263282 0.43056862]]\n",
      "0.6393977095815186\n",
      "[[1.32775941 2.06114487]\n",
      " [3.41531713 1.65942561]\n",
      " [4.40102026 1.20570632]]\n",
      "[[4 1]\n",
      " [4 1]\n",
      " [4 2]]\n",
      "[[-0.54149221  0.37786825 -0.84925821]\n",
      " [ 0.94299022  1.01326393 -1.20586141]]\n",
      "[[ 0.34111764  0.00378178]\n",
      " [-0.90316315 -1.13868469]\n",
      " [ 0.24366958  0.00294014]]\n"
     ]
    }
   ],
   "source": [
    "# np.random.seed(612)\n",
    "\n",
    "print(np.random.rand(2,3))\n",
    "print(np.random.rand())\n",
    "print(np.random.uniform(1,5,(3,2)))\n",
    "print(np.random.randint(1,5,(3,2)))\n",
    "print(np.random.randn(2,3))\n",
    "print(np.random.normal(0,1,(3,2)))"
   ]
  },
  {
   "cell_type": "code",
   "execution_count": 15,
   "metadata": {},
   "outputs": [
    {
     "name": "stdout",
     "output_type": "stream",
     "text": [
      "[1 2 6 0 5 8 9 4 3 7]\n"
     ]
    }
   ],
   "source": [
    "arr=np.arange(10)\n",
    "np.random.shuffle(arr)\n",
    "print(arr)"
   ]
  }
 ],
 "metadata": {
  "kernelspec": {
   "display_name": "tf2-cpu",
   "language": "python",
   "name": "python3"
  },
  "language_info": {
   "codemirror_mode": {
    "name": "ipython",
    "version": 3
   },
   "file_extension": ".py",
   "mimetype": "text/x-python",
   "name": "python",
   "nbconvert_exporter": "python",
   "pygments_lexer": "ipython3",
   "version": "3.8.18"
  }
 },
 "nbformat": 4,
 "nbformat_minor": 2
}
